{
 "cells": [
  {
   "cell_type": "code",
   "execution_count": null,
   "id": "1c5840a4",
   "metadata": {},
   "outputs": [],
   "source": [
    "import pandas as pd\n",
    "import numpy as np\n",
    "import os\n",
    "import keras\n",
    "from keras import Model\n",
    "from keras.layers import Concatenate"
   ]
  },
  {
   "cell_type": "code",
   "execution_count": null,
   "id": "145b6c0c",
   "metadata": {},
   "outputs": [],
   "source": [
    "df = pd.read_csv(\"../package/data/feature_metadata.csv\")"
   ]
  },
  {
   "cell_type": "code",
   "execution_count": null,
   "id": "12eb6d68",
   "metadata": {},
   "outputs": [],
   "source": [
    "df.head()"
   ]
  },
  {
   "cell_type": "code",
   "execution_count": null,
   "id": "e022705d",
   "metadata": {},
   "outputs": [],
   "source": [
    "import matplotlib.pyplot as plt\n",
    "import matplotlib.image as mpimg\n",
    "\n",
    "bedroom_image_path = df.loc[0, \"bedroom\"]\n",
    "bathroom_image_path = df.loc[0, \"bathroom\"]\n",
    "kitchen_image_path = df.loc[0, \"kitchen\"]\n",
    "frontal_image_path = df.loc[0, \"frontal\"]\n",
    "# Read the image using matplotlib\n",
    "\n",
    "f, axarr = plt.subplots(2, 2, figsize=(10, 10))\n",
    "# Read the images\n",
    "img_bedroom = mpimg.imread(bedroom_image_path)\n",
    "img_bathroom = mpimg.imread(bathroom_image_path)\n",
    "img_kitchen = mpimg.imread(kitchen_image_path)\n",
    "img_frontal = mpimg.imread(frontal_image_path)\n",
    "\n",
    "# Display the images in a 2x2 grid\n",
    "axarr[0, 0].imshow(img_bedroom)\n",
    "axarr[0, 0].axis(\"off\")  # Turn off axis\n",
    "\n",
    "axarr[0, 1].imshow(img_bathroom)\n",
    "axarr[0, 1].axis(\"off\")  # Turn off axis\n",
    "\n",
    "axarr[1, 0].imshow(img_kitchen)\n",
    "axarr[1, 0].axis(\"off\")  # Turn off axis\n",
    "\n",
    "axarr[1, 1].imshow(img_frontal)\n",
    "axarr[1, 1].axis(\"off\")  # Turn off axis\n",
    "plt.show()"
   ]
  },
  {
   "cell_type": "code",
   "execution_count": null,
   "id": "33dbf640",
   "metadata": {},
   "outputs": [],
   "source": [
    "from typing import List\n",
    "from typing import Tuple\n",
    "\n",
    "\n",
    "class MultiInputModel:\n",
    "    def __init__(\n",
    "        self, images_shape: List[Tuple], numerical_shape: int, output_shape: int = 1\n",
    "    ):\n",
    "        self.images_shape = images_shape\n",
    "        self.numerical_shape = numerical_shape\n",
    "        self.output_shape = output_shape\n",
    "        self.model = None\n",
    "\n",
    "    def create_image_processors(\n",
    "        self, names: List[str] = [\"bedroom\", \"bathroom\", \"kitchen\", \"frontal\"]\n",
    "    ):\n",
    "        \"\"\"\n",
    "        Create image processors for each image shape in the list.\n",
    "\n",
    "        Returns:\n",
    "            List of Keras models for each image shape.\n",
    "        \"\"\"\n",
    "        for image_shape, name in zip(self.images_shape, names):\n",
    "            x_im_i, x_im = self.image_processor(image_shape, preffix=name)\n",
    "            if hasattr(self, \"image_model_inputs\"):\n",
    "                self.image_model_inputs.append(x_im_i)\n",
    "            if hasattr(self, \"image_model_outputs\"):\n",
    "                self.image_model_outputs.append(x_im)\n",
    "            else:\n",
    "                self.image_model_outputs = [x_im]\n",
    "                self.image_model_inputs = [x_im_i]\n",
    "\n",
    "        return self.image_model_inputs, self.image_model_outputs\n",
    "        # self.image_models = [x_im_i]\n",
    "        # for image_shape, name in zip(self.images_shape, names):\n",
    "        #     image_model = self.image_processor(image_shape, suffix=name)\n",
    "        #     if hasattr(self, 'image_models'):\n",
    "        #         self.image_models.append(image_model)\n",
    "        #     else:\n",
    "        #         self.image_models = [image_model]\n",
    "        # return self.image_models\n",
    "\n",
    "    def image_processor(self, input_image_shape, preffix: str, output_shape: int = 4):\n",
    "        # Image input layer\n",
    "        x_im_i = keras.Input(shape=input_image_shape, name=f\"{preffix}_image_input\")\n",
    "        for n, f in enumerate([16, 32, 64]):\n",
    "            if n == 0:\n",
    "                x_im = x_im_i\n",
    "\n",
    "            x_im = keras.layers.Conv2D(f, (3, 3), activation=\"relu\")(x_im)\n",
    "            x_im = keras.layers.MaxPool2D((2, 2))(x_im)\n",
    "            x_im = keras.layers.BatchNormalization()(x_im)\n",
    "\n",
    "        x_im = keras.layers.Flatten()(x_im)\n",
    "        x_im = keras.layers.Dense(16, activation=\"relu\")(x_im)\n",
    "        x_im = keras.layers.BatchNormalization()(x_im)\n",
    "        x_im = keras.layers.Dense(output_shape, activation=\"relu\")(x_im)\n",
    "\n",
    "        # model = Model(inputs = x_im_i, outputs = x_im)\n",
    "        return x_im_i, x_im\n",
    "\n",
    "    def get_numerical_processor(self, ouput_shape: int = 4):\n",
    "        \"\"\"\n",
    "        Create a Keras model for processing numerical data.\n",
    "\n",
    "        :param input_num_shape: Shape of the numerical input data.\n",
    "        :param ouput_shape: Shape of the output data. Default is 4.\n",
    "        :return: A Keras model for processing numerical data.\n",
    "        \"\"\"\n",
    "        # Numerical and categorical input layer\n",
    "        x_num_i = keras.Input(shape=self.numerical_shape, name=\"numerical_input\")\n",
    "        x_num = keras.layers.Dense(16, activation=\"relu\")(x_num_i)\n",
    "        x_num = keras.layers.Dense(ouput_shape, activation=\"relu\")(x_num)\n",
    "\n",
    "        model = Model(inputs=x_num_i, outputs=x_num)\n",
    "        return model\n",
    "\n",
    "    def build_model(self):\n",
    "        \"\"\"\n",
    "        Build the final model by concatenating the outputs of image and numerical processors.\n",
    "\n",
    "        :return: A Keras model that combines image and numerical data processing.\n",
    "        \"\"\"\n",
    "        # Create models for image and numerical data processing\n",
    "        im_inputs, im_outputs = self.create_image_processors()\n",
    "        numerical_model = self.get_numerical_processor()\n",
    "\n",
    "        # Get the outputs of the models\n",
    "        # image_outputs = [model.output for model in image_models]\n",
    "        numerical_output = numerical_model.output\n",
    "\n",
    "        # combining the two ways\n",
    "        mix_layer = Concatenate()(im_outputs + [numerical_output])\n",
    "\n",
    "        # dense layers\n",
    "        x = keras.layers.Dense(4, activation=\"relu\")(mix_layer)\n",
    "        x = keras.layers.Dense(self.output_shape, activation=\"linear\")(x)\n",
    "\n",
    "        # creating the model\n",
    "\n",
    "        model = Model(inputs=im_inputs + [numerical_model.input], outputs=x)\n",
    "\n",
    "        return model"
   ]
  },
  {
   "cell_type": "code",
   "execution_count": null,
   "id": "b62cf864",
   "metadata": {},
   "outputs": [],
   "source": [
    "multi_model = MultiInputModel(\n",
    "    [(128, 128, 3), (128, 128, 3), (128, 128, 3), (128, 128, 3)], (4,)\n",
    ")\n",
    "model = multi_model.build_model()"
   ]
  },
  {
   "cell_type": "code",
   "execution_count": null,
   "id": "2b35ed17",
   "metadata": {},
   "outputs": [],
   "source": [
    "# use adam optimizer\n",
    "optimizer = keras.optimizers.Adamax(learning_rate=0.001, decay=1e-3 / 200)\n",
    "\n",
    "# use mean absolute error as loss function\n",
    "model.compile(optimizer=optimizer, loss=\"mean_absolute_percentage_error\")"
   ]
  },
  {
   "cell_type": "code",
   "execution_count": null,
   "id": "9fb01fcf",
   "metadata": {},
   "outputs": [],
   "source": [
    "from sklearn.preprocessing import StandardScaler\n",
    "from sklearn.preprocessing import MinMaxScaler\n",
    "\n",
    "\n",
    "def get_image_data(image_path: str):\n",
    "    \"\"\"\n",
    "    Load and preprocess image data.\n",
    "\n",
    "    :param image_path: Path to the image file.\n",
    "    :param image_shape: Desired shape of the image.\n",
    "    :return: Preprocessed image data.\n",
    "    \"\"\"\n",
    "    # Load the image\n",
    "    img = mpimg.imread(image_path)\n",
    "    return img\n",
    "\n",
    "\n",
    "def get_train_test_data():\n",
    "    bedroom_images = []\n",
    "    bathroom_images = []\n",
    "    kitchen_images = []\n",
    "    frontal_images = []\n",
    "    numerical_data = []\n",
    "    target = []\n",
    "    for i in range(len(df)):\n",
    "        # Get the target value\n",
    "        target.append(df.loc[i, \"price\"])\n",
    "        # Get the image paths and numerical data\n",
    "        img = mpimg.imread(df.loc[i, \"bedroom\"])\n",
    "        # resize the image to (128, 128, 3)\n",
    "        img = np.resize(img, (128, 128, 3))\n",
    "        print(\"bedroom shape\", img.shape)\n",
    "        bedroom_images.append(img)\n",
    "\n",
    "        img = mpimg.imread(df.loc[i, \"bathroom\"])\n",
    "        # resize the image to (128, 128, 3)\n",
    "        img = np.resize(img, (128, 128, 3))\n",
    "        print(\"bathroom shape\", img.shape)\n",
    "        bathroom_images.append(img)\n",
    "\n",
    "        img = mpimg.imread(df.loc[i, \"kitchen\"])\n",
    "        # resize the image to (128, 128, 3)\n",
    "        img = np.resize(img, (128, 128, 3))\n",
    "        print(\"kitchen shape\", img.shape)\n",
    "        kitchen_images.append(img)\n",
    "\n",
    "        img = mpimg.imread(df.loc[i, \"frontal\"])\n",
    "        # resize the image to (128, 128, 3)\n",
    "        img = np.resize(img, (128, 128, 3))\n",
    "        # print(\"frontal shape\", img.shape)\n",
    "        print(\"frontal shape\", img.shape)\n",
    "        frontal_images.append(img)\n",
    "\n",
    "        numerical_data.append(df.loc[i][0:4].values)\n",
    "\n",
    "    # Convert lists to numpy arrays\n",
    "    bedroom_images = np.array(bedroom_images).astype(np.float32)\n",
    "    bathroom_images = np.array(bathroom_images).astype(np.float32)\n",
    "    kitchen_images = np.array(kitchen_images).astype(np.float32)\n",
    "    frontal_images = np.array(frontal_images).astype(np.float32)\n",
    "    textual_data = np.array(numerical_data).astype(np.float32)\n",
    "\n",
    "    # reshape textual data to look like (4,)\n",
    "    textual_data = np.reshape(textual_data, (textual_data.shape[0], 4))\n",
    "\n",
    "    image_data = np.array(\n",
    "        [bedroom_images, bathroom_images, kitchen_images, frontal_images]\n",
    "    )\n",
    "\n",
    "    return image_data, textual_data, target"
   ]
  },
  {
   "cell_type": "code",
   "execution_count": null,
   "id": "71c0d07d",
   "metadata": {},
   "outputs": [],
   "source": [
    "image_data, textual_data, target = get_train_test_data()"
   ]
  },
  {
   "cell_type": "code",
   "execution_count": null,
   "id": "597f8f36",
   "metadata": {},
   "outputs": [],
   "source": [
    "# standardize the numerical data\n",
    "textual_scaler = StandardScaler()\n",
    "textual_data = textual_scaler.fit_transform(textual_data)\n",
    "\n",
    "# minmax scale for the target\n",
    "target = target / max(target)"
   ]
  },
  {
   "cell_type": "code",
   "execution_count": null,
   "id": "a37c6f48",
   "metadata": {},
   "outputs": [],
   "source": [
    "def get_train_test_split(\n",
    "    image_data, textual_data, target, total_data: int, test_size: float = 0.2\n",
    "):\n",
    "    \"\"\"\n",
    "    Split the data into training and testing sets.\n",
    "\n",
    "    :param image_data: Image data.\n",
    "    :param textual_data: Textual data.\n",
    "    :param total_data: Total number of samples.\n",
    "    :param test_size: Proportion of the dataset to include in the test split.\n",
    "    :return: Training and testing data splits.\n",
    "    \"\"\"\n",
    "    # Split the data into training and testing sets\n",
    "    train_size = int(total_data * (1 - test_size))\n",
    "    X_train_image, X_test_image = [], []\n",
    "    X_train, X_test = [], []\n",
    "    y_train, y_test = [], []\n",
    "\n",
    "    indexes = np.arange(total_data)\n",
    "    np.random.shuffle(indexes)\n",
    "\n",
    "    for i in range(total_data):\n",
    "        index = indexes[i]\n",
    "        if i < train_size:\n",
    "            X_train_image.append(\n",
    "                [\n",
    "                    image_data[0][index],\n",
    "                    image_data[1][index],\n",
    "                    image_data[2][index],\n",
    "                    image_data[3][index],\n",
    "                ]\n",
    "            )\n",
    "            X_train.append(textual_data[index])\n",
    "            y_train.append(target[index])\n",
    "        else:\n",
    "            X_test_image.append(\n",
    "                [\n",
    "                    image_data[0][index],\n",
    "                    image_data[1][index],\n",
    "                    image_data[2][index],\n",
    "                    image_data[3][index],\n",
    "                ]\n",
    "            )\n",
    "            X_test.append(textual_data[index])\n",
    "            y_test.append(target[index])\n",
    "\n",
    "    X_train_image = np.array(X_train_image)\n",
    "    X_test_image = np.array(X_test_image)\n",
    "    X_train = np.array(X_train)\n",
    "    X_test = np.array(X_test)\n",
    "    y_train = np.array(y_train)\n",
    "    y_test = np.array(y_test)\n",
    "\n",
    "    return X_train, X_test, X_train_image, X_test_image, y_train, y_test"
   ]
  },
  {
   "cell_type": "code",
   "execution_count": null,
   "id": "cb608ea2",
   "metadata": {},
   "outputs": [],
   "source": [
    "len(target)"
   ]
  },
  {
   "cell_type": "code",
   "execution_count": null,
   "id": "3a1ae896",
   "metadata": {},
   "outputs": [],
   "source": [
    "X_train, X_test, X_train_image, X_test_image, y_train, y_test = get_train_test_split(\n",
    "    image_data, textual_data, target, len(df), test_size=0.2\n",
    ")"
   ]
  },
  {
   "cell_type": "code",
   "execution_count": null,
   "id": "b6ef9f79",
   "metadata": {},
   "outputs": [],
   "source": [
    "from mlflow.models import infer_signature\n",
    "from mlflow.types.schema import TensorSpec\n",
    "from mlflow.types.schema import Schema\n",
    "from mlflow.models import ModelSignature\n",
    "import mlflow"
   ]
  },
  {
   "cell_type": "code",
   "execution_count": null,
   "id": "402bc169",
   "metadata": {},
   "outputs": [],
   "source": [
    "image1 = TensorSpec(\n",
    "    shape=(-1, 128, 128, 3), type=np.dtype(np.float32), name=\"bedroom_image_input\"\n",
    ")\n",
    "image2 = TensorSpec(\n",
    "    shape=(-1, 128, 128, 3), type=np.dtype(np.float32), name=\"bathroom_image_input\"\n",
    ")\n",
    "image3 = TensorSpec(\n",
    "    shape=(-1, 128, 128, 3), type=np.dtype(np.float32), name=\"kitchen_image_input\"\n",
    ")\n",
    "image4 = TensorSpec(\n",
    "    shape=(-1, 128, 128, 3), type=np.dtype(np.float32), name=\"frontal_image_input\"\n",
    ")\n",
    "numerical = TensorSpec(shape=(-1, 4), type=np.dtype(np.float32), name=\"numerical_input\")\n",
    "output = TensorSpec(shape=(-1, 1), type=np.dtype(np.float32), name=\"output\")\n",
    "input_schema = Schema(inputs=[image1, image2, image3, image4, numerical])\n",
    "output_schema = Schema(inputs=[output])\n",
    "signature = ModelSignature(inputs=input_schema, outputs=output_schema)\n",
    "signature"
   ]
  },
  {
   "cell_type": "code",
   "execution_count": null,
   "id": "d2580c2c",
   "metadata": {},
   "outputs": [],
   "source": [
    "with mlflow.start_run() as run:\n",
    "    history = model.fit(\n",
    "        x={\n",
    "            \"bedroom_image_input\": X_train_image[:, 0],\n",
    "            \"bathroom_image_input\": X_train_image[:, 1],\n",
    "            \"kitchen_image_input\": X_train_image[:, 2],\n",
    "            \"frontal_image_input\": X_train_image[:, 3],\n",
    "            \"numerical_input\": X_train,\n",
    "        },\n",
    "        y=y_train,\n",
    "        batch_size=8,\n",
    "        epochs=200,\n",
    "        validation_data=(\n",
    "            {\n",
    "                \"bedroom_image_input\": X_test_image[:, 0],\n",
    "                \"bathroom_image_input\": X_test_image[:, 1],\n",
    "                \"kitchen_image_input\": X_test_image[:, 2],\n",
    "                \"frontal_image_input\": X_test_image[:, 3],\n",
    "                \"numerical_input\": X_test,\n",
    "            },\n",
    "            y_test,\n",
    "        ),\n",
    "        verbose=1,\n",
    "        callbacks=[mlflow.keras.MlflowCallback()],\n",
    "    )"
   ]
  },
  {
   "cell_type": "code",
   "execution_count": null,
   "id": "40eca380",
   "metadata": {},
   "outputs": [],
   "source": [
    "plt.figure(figsize=(16, 6))\n",
    "plt.plot(history.history[\"loss\"], label=\"Train Loss\")\n",
    "plt.plot(history.history[\"val_loss\"], label=\"Val Loss\")\n",
    "plt.xlabel(\"Epochs\", fontsize=14)\n",
    "plt.ylabel(\"Loss\", fontsize=14)\n",
    "plt.grid()\n",
    "plt.legend(loc=\"best\")"
   ]
  },
  {
   "cell_type": "code",
   "execution_count": null,
   "id": "0e864853",
   "metadata": {},
   "outputs": [],
   "source": [
    "loaded_model = mlflow.keras.load_model(\"runs:/\" + run.info.run_id + \"/model\")\n",
    "loaded_py_model = mlflow.pyfunc.load_model(\"runs:/\" + run.info.run_id + \"/model\")"
   ]
  },
  {
   "cell_type": "code",
   "execution_count": null,
   "id": "56b3ce06",
   "metadata": {},
   "outputs": [],
   "source": [
    "loaded_model.predict(\n",
    "    {\n",
    "        \"bedroom_image_input\": X_test_image[:, 0],\n",
    "        \"bathroom_image_input\": X_test_image[:, 1],\n",
    "        \"kitchen_image_input\": X_test_image[:, 2],\n",
    "        \"frontal_image_input\": X_test_image[:, 3],\n",
    "        \"numerical_input\": X_test,\n",
    "    }\n",
    ")"
   ]
  },
  {
   "cell_type": "code",
   "execution_count": null,
   "id": "c98d2c36",
   "metadata": {},
   "outputs": [],
   "source": [
    "X_test_ = np.array(\n",
    "    [\n",
    "        [0.34, 0.32, 0.32, 3],\n",
    "        [0.34, 0.32, 0.32, 3],\n",
    "        [0.34, 0.32, 0.32, 3],\n",
    "        [0.34, 0.32, 0.32, 3],\n",
    "    ]\n",
    ")"
   ]
  },
  {
   "cell_type": "code",
   "execution_count": null,
   "id": "1864677d",
   "metadata": {},
   "outputs": [],
   "source": [
    "loaded_model.predict(\n",
    "    {\n",
    "        \"bedroom_image_input\": X_test_image[:, 0][0:4],\n",
    "        \"bathroom_image_input\": X_test_image[:, 1][0:4],\n",
    "        \"kitchen_image_input\": X_test_image[:, 2][0:4],\n",
    "        \"frontal_image_input\": X_test_image[:, 3][0:4],\n",
    "        \"numerical_input\": X_test_,\n",
    "    }\n",
    ")"
   ]
  },
  {
   "cell_type": "code",
   "execution_count": null,
   "id": "c8d854ff",
   "metadata": {},
   "outputs": [],
   "source": [
    "loaded_py_model.predict(\n",
    "    {\n",
    "        \"bedroom_image_input\": X_test_image[:, 0][0:4],\n",
    "        \"bathroom_image_input\": X_test_image[:, 1][0:4],\n",
    "        \"kitchen_image_input\": X_test_image[:, 2][0:4],\n",
    "        \"frontal_image_input\": X_test_image[:, 3][0:4],\n",
    "        \"numerical_input\": X_test_,\n",
    "    }\n",
    ")"
   ]
  },
  {
   "cell_type": "code",
   "execution_count": null,
   "id": "16d93aff",
   "metadata": {},
   "outputs": [],
   "source": [
    "from package.training.models import CNNPriceRegressor"
   ]
  },
  {
   "cell_type": "code",
   "execution_count": null,
   "id": "73c0ac6d",
   "metadata": {},
   "outputs": [],
   "source": [
    "cnn_regressor = CNNPriceRegressor(image_input_shape=(128, 128, 3))"
   ]
  },
  {
   "cell_type": "code",
   "execution_count": null,
   "id": "0352d330",
   "metadata": {},
   "outputs": [],
   "source": [
    "cnn_regressor.log_custom_model()"
   ]
  },
  {
   "cell_type": "code",
   "execution_count": null,
   "id": "f8a28e2c",
   "metadata": {},
   "outputs": [],
   "source": [
    "import time"
   ]
  },
  {
   "cell_type": "code",
   "execution_count": null,
   "id": "6426cd2a",
   "metadata": {},
   "outputs": [],
   "source": [
    "def get_train_test_data():\n",
    "    bedroom_images = []\n",
    "    bathroom_images = []\n",
    "    kitchen_images = []\n",
    "    frontal_images = []\n",
    "    numerical_data = []\n",
    "    target = []\n",
    "    start = time.time()\n",
    "    for i in range(len(df)):\n",
    "        # Get the target value\n",
    "        target.append(df.loc[i, \"price\"])\n",
    "        # Get the image paths and numerical data\n",
    "        img = mpimg.imread(df.loc[i, \"bedroom\"])\n",
    "        # resize the image to (128, 128, 3)\n",
    "        img = np.resize(img, (128, 128, 3))\n",
    "        # print(\"bedroom shape\", img.shape)\n",
    "        bedroom_images.append(img)\n",
    "\n",
    "        img = mpimg.imread(df.loc[i, \"bathroom\"])\n",
    "        # resize the image to (128, 128, 3)\n",
    "        img = np.resize(img, (128, 128, 3))\n",
    "        # print(\"bathroom shape\", img.shape)\n",
    "        bathroom_images.append(img)\n",
    "\n",
    "        img = mpimg.imread(df.loc[i, \"kitchen\"])\n",
    "        # resize the image to (128, 128, 3)\n",
    "        img = np.resize(img, (128, 128, 3))\n",
    "        # print(\"kitchen shape\", img.shape)\n",
    "        kitchen_images.append(img)\n",
    "\n",
    "        img = mpimg.imread(df.loc[i, \"frontal\"])\n",
    "        # resize the image to (128, 128, 3)\n",
    "        img = np.resize(img, (128, 128, 3))\n",
    "        # print(\"frontal shape\", img.shape)\n",
    "        # print(\"frontal shape\", img.shape)\n",
    "        frontal_images.append(img)\n",
    "\n",
    "        numerical_data.append(df.loc[i][0:4].values)\n",
    "\n",
    "    end = time.time()\n",
    "    print(\"Time taken to load data: \", end - start)\n",
    "\n",
    "    # Convert lists to numpy arrays\n",
    "    bedroom_images = np.array(bedroom_images).astype(np.float32)\n",
    "    bathroom_images = np.array(bathroom_images).astype(np.float32)\n",
    "    kitchen_images = np.array(kitchen_images).astype(np.float32)\n",
    "    frontal_images = np.array(frontal_images).astype(np.float32)\n",
    "    textual_data = np.array(numerical_data).astype(np.float32)\n",
    "\n",
    "    # reshape textual data to look like (4,)\n",
    "    textual_data = np.reshape(textual_data, (textual_data.shape[0], 4))\n",
    "\n",
    "    image_data = np.array(\n",
    "        [bedroom_images, bathroom_images, kitchen_images, frontal_images]\n",
    "    )\n",
    "\n",
    "    return image_data, textual_data, target"
   ]
  },
  {
   "cell_type": "code",
   "execution_count": null,
   "id": "fdf57a4a",
   "metadata": {},
   "outputs": [],
   "source": [
    "image_data, textual_data, target = get_train_test_data()"
   ]
  },
  {
   "cell_type": "code",
   "execution_count": null,
   "id": "30388526",
   "metadata": {},
   "outputs": [],
   "source": [
    "bedroom_images = []\n",
    "bathroom_images = []\n",
    "kitchen_images = []\n",
    "frontal_images = []\n",
    "numerical_data = []\n",
    "target = []\n",
    "start = time.time()\n",
    "bedroom_images = [\n",
    "    np.resize(mpimg.imread(df.loc[i, \"bedroom\"]), (128, 128, 3)) for i in range(len(df))\n",
    "]\n",
    "bathroom_images = [\n",
    "    np.resize(mpimg.imread(df.loc[i, \"bathroom\"]), (128, 128, 3))\n",
    "    for i in range(len(df))\n",
    "]\n",
    "kitchen_images = [\n",
    "    np.resize(mpimg.imread(df.loc[i, \"kitchen\"]), (128, 128, 3)) for i in range(len(df))\n",
    "]\n",
    "frontal_images = [\n",
    "    np.resize(mpimg.imread(df.loc[i, \"frontal\"]), (128, 128, 3)) for i in range(len(df))\n",
    "]\n",
    "numerical_data = [df.loc[i][0:4].values for i in range(len(df))]\n",
    "\n",
    "end = time.time()\n",
    "print(\"Time taken to load data: \", end - start)"
   ]
  },
  {
   "cell_type": "code",
   "execution_count": null,
   "id": "ea2f337f",
   "metadata": {},
   "outputs": [],
   "source": [
    "info = {\n",
    "    area: [\n",
    "        np.resize(mpimg.imread(df.loc[i, area]), (128, 128, 3)) for i in range(len(df))\n",
    "    ]\n",
    "    for area in [\"bedroom\", \"bathroom\", \"kitchen\", \"frontal\"]\n",
    "}"
   ]
  },
  {
   "cell_type": "code",
   "execution_count": null,
   "id": "4c8175a8",
   "metadata": {},
   "outputs": [],
   "source": [
    "def get_train_test_val_indexes(indexes, test_size: float = 0.2, val_size: float = 0.1):\n",
    "    np.random.shuffle(indexes)\n",
    "    test_size = int(len(indexes) * test_size)\n",
    "    val_size = int(len(indexes) * val_size)\n",
    "    train_size = len(indexes) - test_size - val_size\n",
    "    train_indexes = indexes[:train_size]\n",
    "    val_indexes = indexes[train_size : train_size + val_size]\n",
    "    test_indexes = indexes[train_size + val_size :]\n",
    "    return train_indexes, val_indexes, test_indexes"
   ]
  },
  {
   "cell_type": "code",
   "execution_count": null,
   "id": "07563621",
   "metadata": {},
   "outputs": [],
   "source": [
    "indexes = df[\"id_\"].values\n",
    "train_indexes, val_indexes, test_indexes = get_train_test_val_indexes(\n",
    "    indexes, test_size=0.2, val_size=0.1\n",
    ")"
   ]
  },
  {
   "cell_type": "code",
   "execution_count": null,
   "id": "c322a748",
   "metadata": {},
   "outputs": [],
   "source": [
    "def get_dataset(indexes: np.array, df: pd.DataFrame):\n",
    "    \"\"\"\n",
    "    Get the dataset from the given indexes and DataFrame.\n",
    "    This function processes the images and textual data, and returns them as numpy arrays.\n",
    "\n",
    "    :param indexes: List of indexes to be used for splitting the dataset.\n",
    "    :param df: DataFrame containing the feature metadata.\n",
    "    :return: Tuple containing the image data, textual data, and target values.\n",
    "    \"\"\"\n",
    "    bedroom_images = []\n",
    "    bathroom_images = []\n",
    "    kitchen_images = []\n",
    "    frontal_images = []\n",
    "    numerical_data = []\n",
    "    target = []\n",
    "    new_shape = (128, 128, 3)\n",
    "    bedroom_images = [\n",
    "        np.resize(mpimg.imread(df.loc[i, \"bedroom\"]), new_shape) for i in indexes\n",
    "    ]\n",
    "    bathroom_images = [\n",
    "        np.resize(mpimg.imread(df.loc[i, \"bathroom\"]), new_shape) for i in indexes\n",
    "    ]\n",
    "    kitchen_images = [\n",
    "        np.resize(mpimg.imread(df.loc[i, \"kitchen\"]), new_shape) for i in indexes\n",
    "    ]\n",
    "    frontal_images = [\n",
    "        np.resize(mpimg.imread(df.loc[i, \"frontal\"]), new_shape) for i in indexes\n",
    "    ]\n",
    "    numerical_data = [df.loc[i][0:4].values for i in indexes]\n",
    "\n",
    "    # Convert lists to numpy arrays\n",
    "    bedroom_images = np.array(bedroom_images).astype(np.float32)\n",
    "    bathroom_images = np.array(bathroom_images).astype(np.float32)\n",
    "    kitchen_images = np.array(kitchen_images).astype(np.float32)\n",
    "    frontal_images = np.array(frontal_images).astype(np.float32)\n",
    "    textual_data = np.array(numerical_data).astype(np.float32)\n",
    "\n",
    "    image_data = np.array(\n",
    "        [bedroom_images, bathroom_images, kitchen_images, frontal_images]\n",
    "    )\n",
    "\n",
    "    return image_data, textual_data, target"
   ]
  },
  {
   "cell_type": "code",
   "execution_count": null,
   "id": "778ea56c",
   "metadata": {},
   "outputs": [],
   "source": [
    "train_index_df = pd.DataFrame(train_indexes, columns=[\"id_\"])\n",
    "val_index_df = pd.DataFrame(val_indexes, columns=[\"id_\"])\n",
    "test_index_df = pd.DataFrame(test_indexes, columns=[\"id_\"])"
   ]
  },
  {
   "cell_type": "code",
   "execution_count": null,
   "id": "3b7264e5",
   "metadata": {},
   "outputs": [],
   "source": [
    "df_train = pd.merge(train_index_df, df, on=\"id_\")\n",
    "df_val = pd.merge(val_index_df, df, on=\"id_\")\n",
    "df_test = pd.merge(test_index_df, df, on=\"id_\")"
   ]
  },
  {
   "cell_type": "code",
   "execution_count": null,
   "id": "8126a21e",
   "metadata": {},
   "outputs": [],
   "source": [
    "train_images, train_textual_data, train_target = get_dataset(train_indexes, df)"
   ]
  },
  {
   "cell_type": "code",
   "execution_count": null,
   "id": "b5ed50a6",
   "metadata": {},
   "outputs": [],
   "source": [
    "df_train = df.merge(train_indexes_df, on=\"id_\")"
   ]
  },
  {
   "cell_type": "code",
   "execution_count": null,
   "id": "3baf53eb",
   "metadata": {},
   "outputs": [],
   "source": [
    "x = {\n",
    "    \"bedroom_image_input\": df_train[\"bedroom\"].values,\n",
    "    \"bathroom_image_input\": df_train[\"bathroom\"].values,\n",
    "    \"kitchen_image_input\": df_train[\"kitchen\"].values,\n",
    "    \"frontal_image_input\": df_train[\"frontal\"].values,\n",
    "    \"numerical_input\": df_train[[\"bedroom\", \"bathroom\", \"kitchen\", \"frontal\"]].values,\n",
    "    \"target\": df_train[\"price\"].values,\n",
    "}"
   ]
  },
  {
   "cell_type": "code",
   "execution_count": null,
   "id": "166aabf2",
   "metadata": {},
   "outputs": [],
   "source": [
    "df_train.get([\"n_bedroons\", \"n_bathrooms\", \"area\"]).to_numpy()"
   ]
  },
  {
   "cell_type": "code",
   "execution_count": null,
   "id": "ae0e4858",
   "metadata": {},
   "outputs": [],
   "source": [
    "from typing import Tuple\n",
    "from typing import Optional\n",
    "\n",
    "\n",
    "def read_image(\n",
    "    image_path: str, image_size: Optional[Tuple[int, int, int]] = (128, 128, 3)\n",
    "):\n",
    "    \"\"\"\n",
    "    Read an image from the given path.\n",
    "\n",
    "    :param image_path: Path to the image file.\n",
    "    :return: Loaded image.\n",
    "    \"\"\"\n",
    "    image = mpimg.imread(image_path)\n",
    "    # Resize the image to (128, 128, 3)\n",
    "    image = np.resize(image, image_size)\n",
    "    return image"
   ]
  },
  {
   "cell_type": "code",
   "execution_count": null,
   "id": "f37ea1f2",
   "metadata": {},
   "outputs": [],
   "source": [
    "train_images = df_train[[\"bedroom\", \"bathroom\", \"kitchen\", \"frontal\"]].map(read_image)"
   ]
  },
  {
   "cell_type": "code",
   "execution_count": null,
   "id": "b844cdd2",
   "metadata": {},
   "outputs": [],
   "source": [
    "train_images[\"bedroom\"].loc[0].shape"
   ]
  },
  {
   "cell_type": "code",
   "execution_count": null,
   "id": "95a3daeb",
   "metadata": {},
   "outputs": [],
   "source": [
    "x = {\n",
    "    \"bedroom\": np.resize(\n",
    "        train_images.get(\"bedroom\").to_numpy(), (len(train_images), 128, 128, 3)\n",
    "    ),\n",
    "    \"bathroom\": np.resize(\n",
    "        train_images.get(\"bathroom\").to_numpy(), (len(train_images), 128, 128, 3)\n",
    "    ),\n",
    "    \"kitchen\": np.resize(\n",
    "        train_images.get(\"kitchen\").to_numpy(), (len(train_images), 128, 128, 3)\n",
    "    ),\n",
    "    \"frontal\": np.resize(\n",
    "        train_images.get(\"frontal\").to_numpy(), (len(train_images), 128, 128, 3)\n",
    "    ),\n",
    "}"
   ]
  },
  {
   "cell_type": "code",
   "execution_count": null,
   "id": "bc3d5efa",
   "metadata": {},
   "outputs": [],
   "source": [
    "input_label_maps = {\n",
    "    \"bedroom\": \"bedroom_image_input\",\n",
    "    \"bathroom\": \"bathroom_image_input\",\n",
    "    \"kitchen\": \"kitchen_image_input\",\n",
    "    \"frontal\": \"frontal_image_input\",\n",
    "}\n",
    "x2 = {\n",
    "    input_key: np.resize(\n",
    "        train_images.get(feature_label).to_numpy(), (len(train_images), 128, 128, 3)\n",
    "    )\n",
    "    for feature_label, input_key in input_label_maps.items()\n",
    "}"
   ]
  },
  {
   "cell_type": "code",
   "execution_count": 1,
   "id": "02467f49",
   "metadata": {},
   "outputs": [],
   "source": [
    "from package.data.feature_processing import get_train_test_val_indexes\n",
    "from package.data.feature_processing import get_dataset\n",
    "from package.data.feature_processing import get_model_data\n",
    "from package.utils.image import read_image\n",
    "import pandas as pd\n",
    "import numpy as np"
   ]
  },
  {
   "cell_type": "code",
   "execution_count": 2,
   "id": "8ab9d417",
   "metadata": {},
   "outputs": [],
   "source": [
    "df = pd.read_csv(\"../package/data/feature_metadata.csv\")"
   ]
  },
  {
   "cell_type": "code",
   "execution_count": 3,
   "id": "bbb1aa33",
   "metadata": {},
   "outputs": [],
   "source": [
    "indexes = df[\"id_\"].values\n",
    "train_indexes, val_indexes, test_indexes = get_train_test_val_indexes(\n",
    "    indexes, test_size=0.2, val_size=0.1\n",
    ")\n",
    "\n",
    "df_train = get_dataset(train_indexes, df)\n",
    "df_val = get_dataset(val_indexes, df)\n",
    "df_test = get_dataset(test_indexes, df)"
   ]
  },
  {
   "cell_type": "code",
   "execution_count": 4,
   "id": "14203401",
   "metadata": {},
   "outputs": [],
   "source": [
    "train_data = df_train.map(lambda x: read_image(x) if type(x) is str else x)\n",
    "test_data = df_test.map(lambda x: read_image(x) if type(x) is str else x)\n",
    "val_data = df_val.map(lambda x: read_image(x) if type(x) is str else x)"
   ]
  },
  {
   "cell_type": "code",
   "execution_count": 5,
   "id": "9dd0f8f5",
   "metadata": {},
   "outputs": [],
   "source": [
    "x_train, y_train = get_model_data(train_data)"
   ]
  },
  {
   "cell_type": "code",
   "execution_count": 7,
   "id": "6ff152e2",
   "metadata": {},
   "outputs": [
    {
     "data": {
      "text/plain": [
       "dict_keys(['bedroom_image_input', 'bathroom_image_input', 'kitchen_image_input', 'frontal_image_input', 'textual_data'])"
      ]
     },
     "execution_count": 7,
     "metadata": {},
     "output_type": "execute_result"
    }
   ],
   "source": [
    "x_train.keys()"
   ]
  },
  {
   "cell_type": "code",
   "execution_count": 10,
   "id": "7ef5d5f7",
   "metadata": {},
   "outputs": [
    {
     "data": {
      "text/plain": [
       "dtype('float32')"
      ]
     },
     "execution_count": 10,
     "metadata": {},
     "output_type": "execute_result"
    }
   ],
   "source": [
    "x_train[\"bedroom_image_input\"].shape\n",
    "x_train[\"bedroom_image_input\"].dtype"
   ]
  },
  {
   "cell_type": "code",
   "execution_count": null,
   "id": "c85f87e3",
   "metadata": {},
   "outputs": [],
   "source": [
    "print(data.shape)\n",
    "print(data.dtype)\n",
    "data_ = np.resize(data, (len(data), 128, 128, 3))\n",
    "print(data_.shape)\n",
    "print(data_.dtype)\n",
    "for image in data:\n",
    "    print(\"\\n\")\n",
    "    print(image.shape)\n",
    "    print(image.dtype)\n",
    "    for channel in range(3):\n",
    "        print(image[:, :, channel].dtype)\n",
    "        print(image[:, :, channel].shape)\n",
    "        print(\"-------------------\")"
   ]
  },
  {
   "cell_type": "code",
   "execution_count": null,
   "id": "d22812e0",
   "metadata": {},
   "outputs": [],
   "source": [
    "data2 = np.array([image for image in data])\n",
    "print(data2.shape)\n",
    "print(data2.dtype)"
   ]
  },
  {
   "cell_type": "code",
   "execution_count": null,
   "id": "71cabd3f",
   "metadata": {},
   "outputs": [],
   "source": [
    "data_"
   ]
  },
  {
   "cell_type": "code",
   "execution_count": null,
   "id": "c8211664",
   "metadata": {},
   "outputs": [],
   "source": []
  }
 ],
 "metadata": {
  "kernelspec": {
   "display_name": ".venv",
   "language": "python",
   "name": "python3"
  },
  "language_info": {
   "codemirror_mode": {
    "name": "ipython",
    "version": 3
   },
   "file_extension": ".py",
   "mimetype": "text/x-python",
   "name": "python",
   "nbconvert_exporter": "python",
   "pygments_lexer": "ipython3",
   "version": "3.11.8"
  }
 },
 "nbformat": 4,
 "nbformat_minor": 5
}
